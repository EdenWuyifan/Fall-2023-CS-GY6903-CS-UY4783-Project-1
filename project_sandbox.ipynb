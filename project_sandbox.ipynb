{
 "cells": [
  {
   "cell_type": "markdown",
   "metadata": {},
   "source": [
    "# Cypher Schema"
   ]
  },
  {
   "cell_type": "markdown",
   "metadata": {},
   "source": [
    "Your program will be run using different parameters (e.g., L=600, u=5, v=40, and t between 1 and 24), and on a number of challenge ciphertexts, each computed using a potentially different variant of the encryption scheme.\n",
    "\n",
    "Your program should return as output a guess for which L-symbol plaintext was encrypted.\n",
    "\n",
    "Each ciphertext will be computed from a plaintext selected in one of the following two ways:\n",
    "\n",
    "randomly and independently choosing one of the L-symbol plaintexts in Dictionary1 or\n",
    "concatenating words randomly and independently chosen from Dictionary2 (any two words being separated by a space, until one has an L-symbol plaintext)."
   ]
  },
  {
   "cell_type": "markdown",
   "metadata": {},
   "source": [
    "### A pseudocode description of the encryption algorithm could go as follows:\n",
    "\n",
    "Input: \n",
    "- key k=k[1],...,k[t] \n",
    "- message m=m[1],...,m[L]\n",
    "\n",
    "Instructions:\n",
    "- ciphertext_pointer = 1 \n",
    "- message_pointer = 1\n",
    "- num_rand_characters = 0\n",
    "- prob_of_random_ciphertext = 0.05\n",
    "  \n",
    "Repeat\n",
    "- let coin_value = coin_generation_algorithm(ciphertext_pointer,t,L)  // coin_value is a real number in [0,1]\n",
    "- if prob_of_random_ciphertext <= coin_value <= 1 then\n",
    "  - set j = (message_pointer mod t) + 1\n",
    "  - set c[ciphertext_pointer] = character obtained after forward shifting m[message_pointer] by k[j] positions on the cycle\n",
    "  - message_pointer = message_pointer + 1\n",
    "- if 0 <= coin_value < prob_of_random_ciphertext then\n",
    "  - randomly choose a character c from `{<space>,a,..,z}`\n",
    "  - set c[ciphertext_pointer] = c\n",
    "  - num_rand_characters = num_rand_characters + 1\n",
    "- ciphertext_pointer = ciphertext_pointer +1   \n",
    "- Until ciphertext_pointer > L + num_rand_characters\n",
    "  - Return c[1]...c[L + num_rand_characters]"
   ]
  },
  {
   "cell_type": "raw",
   "metadata": {
    "jupyter": {
     "source_hidden": true
    }
   },
   "source": [
    "import random\n",
    "\n",
    "RANDOM_CIPHER_PROB = 0.1\n",
    "\n",
    "alphabet = [' '] + [chr(i + ord('a')) for i in range(26)]\n",
    "\n",
    "def forward_shift(char: str, offset: int) -> str:\n",
    "    if char == ' ':\n",
    "        idx = 0\n",
    "    else:\n",
    "        idx = ord(char) - ord('a') + 1\n",
    "    return alphabet[(idx + offset) % 27]\n",
    "\n",
    "def encrypt(msg: str, key: list[int]) -> str:\n",
    "    cipher = ''\n",
    "    message_pointer = 0\n",
    "    ciphertext_pointer = 0\n",
    "    num_rand_characters = 0\n",
    "  \n",
    "    while ciphertext_pointer < len(msg) + num_rand_characters:\n",
    "        coin = random.random()\n",
    "        print(coin)\n",
    "        if coin >= RANDOM_CIPHER_PROB and coin <= 1:\n",
    "            j = message_pointer % len(key)\n",
    "            cipher += forward_shift(msg[message_pointer], key[j])\n",
    "            message_pointer += 1\n",
    "        elif coin < RANDOM_CIPHER_PROB and coin >= 0:\n",
    "            rand_char = random.choice(alphabet)\n",
    "            cipher += rand_char\n",
    "            num_rand_characters += 1\n",
    "        ciphertext_pointer += 1\n",
    "\n",
    "    return cipher"
   ]
  },
  {
   "cell_type": "markdown",
   "metadata": {},
   "source": [
    "### Project 1"
   ]
  },
  {
   "cell_type": "code",
   "execution_count": 19,
   "metadata": {},
   "outputs": [
    {
     "name": "stdout",
     "output_type": "stream",
     "text": [
      "len(rand_idx)=27 [30, 46, 55, 61, 83, 96, 167, 196, 222, 257, 265, 279, 287, 292, 318, 326, 356, 375, 384, 423, 427, 436, 481, 523, 541, 546, 614]\n",
      "cipher='ndwbzdicufgdxhifxhyimqbacdronrleadsjdqvqjaccoukynsdhid apyvehm ayrcoedrolzjuquobxoiutfqaiuqnaxdcyhtwnslecueh gxaimue bcaibpynoex flfqporubehiecdppzirsqcvzdwnsjcbsqdavcjhipohjole fqbnatdyquqntdcafcwhweusrujcvp qujskbaeujobxqrmuwgaqqlimqbfpcopchaulojcjuroekixnmwnsrdugmldyqxhicmqjoimclbecmvpscnumqsqbzwiguvqasujqqcqbecrhuxrxavhujmjctjehimqpxolpxowhgazd xtduak fbpaxaaahwhflwabxwxlwdismfzlp qitxrbilwcseonafqrd uwagxuufunahdusbfvieyjoxqtrwvflajllbnccdibgrlbpriccrld oraoxlvyenslg bsrwmgcxrulhphaojoecojscpvmyjatrwfjgnxlllflf ffmpikmftgcxrulnrxuhcuzojknflpjosrioqfbbclwflr bzjnaadybjdirflwdqc bdskfcugadw bhenscaiumqpfcclwflxpmuhau'\n"
     ]
    }
   ],
   "source": [
    "from enc import ctoi, encrypt\n",
    "key = [1, 12, 3, 9]\n",
    "\n",
    "with open(\"examples/plaintext_dictionary_test1\", \"r\") as f:\n",
    "    msg = [ctoi[c] for c in f.readline().strip(\"\\n\")]\n",
    "\n",
    "\n",
    "rand_idx, cipher = encrypt(msg, key)\n",
    "print(f\"{len(rand_idx)=} {rand_idx}\")\n",
    "print(f\"{cipher=}\")"
   ]
  },
  {
   "cell_type": "markdown",
   "metadata": {},
   "source": [
    "### Project 2"
   ]
  },
  {
   "cell_type": "code",
   "execution_count": 26,
   "metadata": {},
   "outputs": [
    {
     "name": "stdout",
     "output_type": "stream",
     "text": [
      "len(rand_idx)=28 [1, 13, 36, 40, 74, 113, 130, 138, 177, 197, 286, 300, 332, 336, 362, 363, 370, 467, 484, 485, 494, 523, 537, 569, 578, 602, 604, 617]\n",
      "cipher=' tsbjylauufitojqlicrwjkhimmyrttcxqelrvjdmwrdlundjfuflnwphoneshix qmfcicmljm belbvphicclumudwulvgook pzlhflojwuvqaqbxjmuigardaduqjuxqc foalzmqckfmxbjrxua eafcynazrbfhr utaimfpro sxaachlzoonanhjvelovfxcdfclozlzxoph gfoiimuvpzaieqwnsylwflw bzvopcpiwqurgjcqbcpxojcwpehepcwqzlzxoph gfoicclumoudwulmxwuduakthjm xaanhjvelovxcvfxorgxxxvdcngtrllvjqqbawqxxxhmhqc foalmqcuvtoylwpfvsigcdpjxhimfpro xaaqoxrfhwule jxorbzwiz xbirxuafqruqcrodsrsqcybcwrdusjuqcubglailijtolwbehicclumudgwulrktqudflfjmoxsdubehidmoulvxdbflnwphoneshigmvljzdbflexnbfwrgfoiyjoxpqtrwflhupbxnoecwpfurttcgpfwqgfoyix qmfciqcmlmccuojoeccouwnakhjm ix aayhumuiuv xtaakhjm xa'\n"
     ]
    }
   ],
   "source": [
    "import random\n",
    "from enc import ctoi, encrypt\n",
    "key = [1, 12, 3, 9]\n",
    "\n",
    "with open(\"examples/plaintext_dictionary_test2\", \"r\") as f:\n",
    "    words = [w.strip(\"\\n\") for w in f.readlines()]\n",
    "    msg = ''\n",
    "    while len(msg) < 600:\n",
    "        msg += random.choice(words)\n",
    "        msg += \" \"\n",
    "    msg = msg.strip()\n",
    "\n",
    "msg = [ctoi[c] for c in msg]\n",
    "    \n",
    "rand_idx, cipher = encrypt(msg, key)\n",
    "print(f\"{len(rand_idx)=} {rand_idx}\")\n",
    "print(f\"{cipher=}\")"
   ]
  },
  {
   "cell_type": "code",
   "execution_count": null,
   "metadata": {},
   "outputs": [],
   "source": []
  }
 ],
 "metadata": {
  "kernelspec": {
   "display_name": "my_env",
   "language": "python",
   "name": "my_env"
  },
  "language_info": {
   "codemirror_mode": {
    "name": "ipython",
    "version": 3
   },
   "file_extension": ".py",
   "mimetype": "text/x-python",
   "name": "python",
   "nbconvert_exporter": "python",
   "pygments_lexer": "ipython3",
   "version": "3.10.9"
  }
 },
 "nbformat": 4,
 "nbformat_minor": 4
}
